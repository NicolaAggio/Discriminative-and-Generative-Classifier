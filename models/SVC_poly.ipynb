{
 "cells": [
  {
   "cell_type": "code",
   "execution_count": null,
   "metadata": {},
   "outputs": [],
   "source": [
    "import matplotlib.pyplot as matplot\n",
    "import seaborn as sb\n",
    "import pandas as pd\n",
    "import numpy as np\n",
    "import time\n",
    "from sklearn.svm import SVC\n",
    "from sklearn.datasets import fetch_openml\n",
    "from sklearn.metrics import accuracy_score, confusion_matrix\n",
    "from sklearn.model_selection import train_test_split, cross_val_score"
   ]
  },
  {
   "cell_type": "code",
   "execution_count": null,
   "metadata": {},
   "outputs": [],
   "source": [
    "# importing the dataset\n",
    "X,y = fetch_openml('mnist_784', version=1, return_X_y=True)\n",
    "y = y.astype(int)\n",
    "    \n",
    "# deleting the columns with unique values and rescaling\n",
    "X = X[:, ~np.all(X[1:] == X[:-1], axis=0)]\n",
    "X = X/255\n",
    "    \n",
    "# splitting the data into train, validation and test\n",
    "X_train_80, X_test, y_train_80, y_test = train_test_split(X, y, test_size = 0.2, random_state = 0)\n",
    "X_train, X_valid , y_train, y_valid = train_test_split(X_train_80, y_train_80, test_size = 0.25, random_state=0)"
   ]
  },
  {
   "cell_type": "code",
   "execution_count": null,
   "metadata": {},
   "outputs": [],
   "source": [
    "scale_acc = []\n",
    "auto_acc = []\n",
    "for c in [0.0001,0.001,0.01,0.1,1,10,100,1000,10000]:\n",
    "    for gam in ['scale', 'auto']:\n",
    "        svm = SVC(C=c, kernel='poly', degree = 2, gamma = gam)\n",
    "        scores = cross_val_score(svm, X_valid, y_valid, cv = 10, n_jobs = -1, verbose  = 0)\n",
    "        validation_accuracy = scores.mean()\n",
    "        print(f'C: {c} --- Gamma : {gam} --- CV accuracy: {validation_accuracy}')\n",
    "        \n",
    "        if gam == 'scale':\n",
    "            scale_acc.append(validation_accuracy)\n",
    "        else:\n",
    "            auto_acc.append(validation_accuracy)"
   ]
  },
  {
   "cell_type": "code",
   "execution_count": null,
   "metadata": {},
   "outputs": [],
   "source": [
    "c = [0.0001,0.001,0.01,0.1,1,10,100,1000,10000]\n",
    "\n",
    "matplot.subplots(figsize=(10, 5))\n",
    "matplot.semilogx(c, scale_acc,'-gD' ,color='red' , label=\"Accuracy - 'scale'\")\n",
    "matplot.semilogx(c, auto_acc,'-gD' , label=\"Accuracy - 'auto'\")\n",
    "matplot.grid(True)\n",
    "matplot.xlabel(\"Cost Parameter C\")\n",
    "matplot.ylabel(\"Accuracy\")\n",
    "matplot.legend()\n",
    "matplot.title('Accuracy versus the Cost Parameter C (log-scale)')\n",
    "matplot.show()"
   ]
  },
  {
   "cell_type": "code",
   "execution_count": null,
   "metadata": {},
   "outputs": [],
   "source": [
    "poly_svc = SVC(C = 100, kernel = 'poly', degree=2, gamma = 'scale')\n",
    "\n",
    "start_train = time.time()\n",
    "poly_svc.fit(X_train, y_train)\n",
    "time_train = time.time() - start_train\n",
    "\n",
    "start_test = time.time()\n",
    "y_pred = poly_svc.predict(X_test)\n",
    "time_test = time.time() - start_test\n",
    "\n",
    "score = accuracy_score(y_test, y_pred)\n",
    "print('Train time: ', time_train)\n",
    "print('Test time: ',time_test)\n",
    "print('Test accuracy = ', score)"
   ]
  },
  {
   "cell_type": "code",
   "execution_count": null,
   "metadata": {},
   "outputs": [],
   "source": [
    "cm = confusion_matrix(y_test, y_pred)\n",
    "matplot.subplots(figsize=(10, 6))\n",
    "sb.heatmap(cm, annot = True, fmt = 'g')\n",
    "matplot.xlabel(\"Predicted\")\n",
    "matplot.ylabel(\"Actual\")\n",
    "matplot.title(\"Confusion Matrix\")\n",
    "matplot.show()"
   ]
  }
 ],
 "metadata": {
  "kernelspec": {
   "display_name": "Python 3",
   "language": "python",
   "name": "python3"
  },
  "language_info": {
   "codemirror_mode": {
    "name": "ipython",
    "version": 3
   },
   "file_extension": ".py",
   "mimetype": "text/x-python",
   "name": "python",
   "nbconvert_exporter": "python",
   "pygments_lexer": "ipython3",
   "version": "3.8.5"
  },
  "vscode": {
   "interpreter": {
    "hash": "89856bdab09c39aefbf3209efc6bdf7de9c55ab8d3adb613190e6747f16e35fa"
   }
  }
 },
 "nbformat": 4,
 "nbformat_minor": 2
}
