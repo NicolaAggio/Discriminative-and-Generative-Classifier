{
 "cells": [
  {
   "cell_type": "code",
   "execution_count": null,
   "metadata": {},
   "outputs": [],
   "source": [
    "import matplotlib.pyplot as matplot\n",
    "import seaborn as sb\n",
    "import pandas as pd\n",
    "import time\n",
    "import numpy as np\n",
    "from sklearn.svm import SVC\n",
    "from sklearn.datasets import fetch_openml\n",
    "from sklearn.metrics import accuracy_score, confusion_matrix\n",
    "from sklearn.model_selection import train_test_split, cross_val_score, GridSearchCV\n",
    "from sklearn.ensemble import RandomForestClassifier"
   ]
  },
  {
   "cell_type": "code",
   "execution_count": null,
   "metadata": {},
   "outputs": [],
   "source": [
    "# importing the dataset\n",
    "X,y = fetch_openml('mnist_784', version=1, return_X_y=True)\n",
    "y = y.astype(int)\n",
    "    \n",
    "# deleting the columns with unique values and rescaling\n",
    "X = X[:, ~np.all(X[1:] == X[:-1], axis=0)]\n",
    "X = X/255\n",
    "    \n",
    "# splitting the data into train, validation and test\n",
    "X_train_80, X_test, y_train_80, y_test = train_test_split(X, y, test_size = 0.2, random_state = 0)\n",
    "X_train, X_valid , y_train, y_valid = train_test_split(X_train_80, y_train_80, test_size = 0.25, random_state=0)"
   ]
  },
  {
   "cell_type": "code",
   "execution_count": null,
   "metadata": {},
   "outputs": [],
   "source": [
    "rf = RandomForestClassifier(n_jobs = -1)\n",
    "params = {\n",
    "    'n_estimators':[100, 200, 500, 1000],\n",
    "    'criterion':['gini', 'entropy'],\n",
    "    'max_features':['sqrt', 'log2', None]\n",
    "}\n",
    "grid_RF = GridSearchCV(estimator = rf, param_grid = params, cv = 10, n_jobs = -1, return_train_score = True, verbose = 3)\n",
    "grid_RF.fit(X_valid, y_valid)"
   ]
  },
  {
   "cell_type": "code",
   "execution_count": null,
   "metadata": {},
   "outputs": [],
   "source": [
    "grid_RF.cv_results_"
   ]
  },
  {
   "cell_type": "code",
   "execution_count": null,
   "metadata": {},
   "outputs": [],
   "source": [
    "grid_RF.best_params_"
   ]
  },
  {
   "cell_type": "code",
   "execution_count": null,
   "metadata": {},
   "outputs": [],
   "source": [
    "bes_grid_RF = RandomForestClassifier(n_estimators = 1000, criterion = 'gini', max_features = 'sqrt', n_jobs = -1)\n",
    "\n",
    "start_train = time.time()\n",
    "bes_grid_RF.fit(X_train, y_train)\n",
    "time_train = time.time() - start_train\n",
    "\n",
    "start_test = time.time()\n",
    "y_pred = bes_grid_RF.predict(X_test)\n",
    "time_test = time.time() - start_test\n",
    "\n",
    "score = accuracy_score(y_test, y_pred)\n",
    "\n",
    "print('Training time: ', time_train)\n",
    "print('Test time: ', time_test)\n",
    "print('Test accuracy = ', score)"
   ]
  },
  {
   "cell_type": "code",
   "execution_count": null,
   "metadata": {},
   "outputs": [],
   "source": [
    "cm = confusion_matrix(y_test, y_pred)\n",
    "matplot.subplots(figsize=(10, 6))\n",
    "sb.heatmap(cm, annot = True, fmt = 'g')\n",
    "matplot.xlabel(\"Predicted\")\n",
    "matplot.ylabel(\"Actual\")\n",
    "matplot.title(\"Confusion Matrix\")\n",
    "matplot.show()"
   ]
  }
 ],
 "metadata": {
  "kernelspec": {
   "display_name": "Python 3",
   "language": "python",
   "name": "python3"
  },
  "language_info": {
   "codemirror_mode": {
    "name": "ipython",
    "version": 3
   },
   "file_extension": ".py",
   "mimetype": "text/x-python",
   "name": "python",
   "nbconvert_exporter": "python",
   "pygments_lexer": "ipython3",
   "version": "3.8.5"
  }
 },
 "nbformat": 4,
 "nbformat_minor": 4
}
