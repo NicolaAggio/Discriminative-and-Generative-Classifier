{
 "cells": [
  {
   "cell_type": "code",
   "execution_count": 1,
   "metadata": {},
   "outputs": [],
   "source": [
    "import matplotlib.pyplot as matplot\n",
    "import seaborn as sb\n",
    "import pandas as pd\n",
    "import time\n",
    "import numpy as np\n",
    "from sklearn.svm import SVC\n",
    "from sklearn.datasets import fetch_openml\n",
    "from sklearn.metrics import accuracy_score, confusion_matrix\n",
    "from sklearn.model_selection import train_test_split, cross_val_score, GridSearchCV\n",
    "from sklearn.ensemble import RandomForestClassifier"
   ]
  },
  {
   "cell_type": "code",
   "execution_count": 2,
   "metadata": {},
   "outputs": [
    {
     "name": "stdout",
     "output_type": "stream",
     "text": [
      "--TRAIN SET -- (56000, 719) (56000,)\n",
      "--VALIDATION SET-- (14000, 719) (14000,)\n",
      "--TEST SET-- (14000, 719) (14000,)\n"
     ]
    }
   ],
   "source": [
    "# importing the dataset\n",
    "X,y = fetch_openml('mnist_784', version=1, return_X_y=True)\n",
    "y = y.astype(int)\n",
    "    \n",
    "# deleting the columns with unique values and rescaling\n",
    "X = X[:, ~np.all(X[1:] == X[:-1], axis=0)]\n",
    "X = X/255\n",
    "    \n",
    "# splitting the data into train, validation and test\n",
    "X_train_80, X_test, y_train_80, y_test = train_test_split(X, y, test_size = 0.2, random_state = 0)\n",
    "X_train, X_valid , y_train, y_valid = train_test_split(X_train_80, y_train_80, test_size = 0.25, random_state=0)"
   ]
  },
  {
   "cell_type": "code",
   "execution_count": 3,
   "metadata": {},
   "outputs": [
    {
     "name": "stdout",
     "output_type": "stream",
     "text": [
      "Fitting 10 folds for each of 24 candidates, totalling 240 fits\n"
     ]
    },
    {
     "name": "stderr",
     "output_type": "stream",
     "text": [
      "[Parallel(n_jobs=-1)]: Using backend LokyBackend with 8 concurrent workers.\n",
      "[Parallel(n_jobs=-1)]: Done  16 tasks      | elapsed:   46.6s\n",
      "[Parallel(n_jobs=-1)]: Done 112 tasks      | elapsed: 112.7min\n",
      "[Parallel(n_jobs=-1)]: Done 240 out of 240 | elapsed: 343.2min finished\n"
     ]
    },
    {
     "data": {
      "text/plain": [
       "GridSearchCV(cv=10, estimator=RandomForestClassifier(n_jobs=-1), n_jobs=-1,\n",
       "             param_grid={'criterion': ['gini', 'entropy'],\n",
       "                         'max_features': ['sqrt', 'log2', None],\n",
       "                         'n_estimators': [100, 200, 500, 1000]},\n",
       "             return_train_score=True, verbose=3)"
      ]
     },
     "execution_count": 3,
     "metadata": {},
     "output_type": "execute_result"
    }
   ],
   "source": [
    "rf = RandomForestClassifier(n_jobs = -1)\n",
    "params = {\n",
    "    'n_estimators':[100, 200, 500, 1000],\n",
    "    'criterion':['gini', 'entropy'],\n",
    "    'max_features':['sqrt', 'log2', None]\n",
    "}\n",
    "grid_RF = GridSearchCV(estimator = rf, param_grid = params, cv = 10, n_jobs = -1, return_train_score = True, verbose = 3)\n",
    "grid_RF.fit(X_valid, y_valid)"
   ]
  },
  {
   "cell_type": "code",
   "execution_count": 4,
   "metadata": {},
   "outputs": [
    {
     "data": {
      "text/plain": [
       "{'mean_fit_time': array([  11.63073223,   22.42315843,   57.60291526,  121.4531755 ,\n",
       "           8.79038985,   12.57360883,   26.28164179,   60.15421278,\n",
       "         335.31509829,  682.58909185, 1710.95294216, 3327.83662388,\n",
       "          29.45298889,   48.2735822 ,  117.93715889,  225.50602851,\n",
       "          12.85567031,   20.51281652,   49.95016177,  102.08022885,\n",
       "         506.4127393 ,  977.27514131, 2725.58459537, 4121.81307213]),\n",
       " 'std_fit_time': array([2.11471412e+00, 2.12237004e+00, 8.44007258e-01, 1.15576158e+01,\n",
       "        1.51366933e+00, 8.32671361e-01, 1.24946598e+00, 3.93489554e+00,\n",
       "        3.58806147e+00, 5.02138710e+00, 6.11445737e+00, 1.32938048e+02,\n",
       "        6.75152911e-01, 2.68656711e+00, 1.09805344e+00, 1.65774871e+01,\n",
       "        6.37822836e-01, 1.53368233e+00, 1.23784228e+00, 3.25022082e+00,\n",
       "        5.91684230e+00, 1.00322520e+01, 1.78598029e+02, 1.13735625e+03]),\n",
       " 'mean_score_time': array([2.04853067, 2.2490829 , 3.62388966, 4.20248928, 2.82048008,\n",
       "        2.7905576 , 3.0274307 , 4.1650053 , 3.47320597, 3.88018801,\n",
       "        5.29259884, 6.64727991, 4.79675813, 4.38223517, 5.39419212,\n",
       "        5.54937201, 3.53205998, 3.64558105, 4.02848971, 5.52943516,\n",
       "        4.26797621, 4.50792458, 6.47590275, 4.14679439]),\n",
       " 'std_score_time': array([2.06174383, 1.07651797, 0.50544525, 1.33443182, 0.82786828,\n",
       "        0.42794388, 0.6279211 , 1.24034853, 0.74901201, 0.66347438,\n",
       "        0.37003717, 0.61024732, 0.47867765, 0.35024717, 0.29102745,\n",
       "        1.01972491, 0.65952337, 0.45229909, 0.64850592, 0.65139552,\n",
       "        0.39739961, 0.3786388 , 3.66961488, 2.06339768]),\n",
       " 'param_criterion': masked_array(data=['gini', 'gini', 'gini', 'gini', 'gini', 'gini', 'gini',\n",
       "                    'gini', 'gini', 'gini', 'gini', 'gini', 'entropy',\n",
       "                    'entropy', 'entropy', 'entropy', 'entropy', 'entropy',\n",
       "                    'entropy', 'entropy', 'entropy', 'entropy', 'entropy',\n",
       "                    'entropy'],\n",
       "              mask=[False, False, False, False, False, False, False, False,\n",
       "                    False, False, False, False, False, False, False, False,\n",
       "                    False, False, False, False, False, False, False, False],\n",
       "        fill_value='?',\n",
       "             dtype=object),\n",
       " 'param_max_features': masked_array(data=['sqrt', 'sqrt', 'sqrt', 'sqrt', 'log2', 'log2', 'log2',\n",
       "                    'log2', None, None, None, None, 'sqrt', 'sqrt', 'sqrt',\n",
       "                    'sqrt', 'log2', 'log2', 'log2', 'log2', None, None,\n",
       "                    None, None],\n",
       "              mask=[False, False, False, False, False, False, False, False,\n",
       "                    False, False, False, False, False, False, False, False,\n",
       "                    False, False, False, False, False, False, False, False],\n",
       "        fill_value='?',\n",
       "             dtype=object),\n",
       " 'param_n_estimators': masked_array(data=[100, 200, 500, 1000, 100, 200, 500, 1000, 100, 200,\n",
       "                    500, 1000, 100, 200, 500, 1000, 100, 200, 500, 1000,\n",
       "                    100, 200, 500, 1000],\n",
       "              mask=[False, False, False, False, False, False, False, False,\n",
       "                    False, False, False, False, False, False, False, False,\n",
       "                    False, False, False, False, False, False, False, False],\n",
       "        fill_value='?',\n",
       "             dtype=object),\n",
       " 'params': [{'criterion': 'gini', 'max_features': 'sqrt', 'n_estimators': 100},\n",
       "  {'criterion': 'gini', 'max_features': 'sqrt', 'n_estimators': 200},\n",
       "  {'criterion': 'gini', 'max_features': 'sqrt', 'n_estimators': 500},\n",
       "  {'criterion': 'gini', 'max_features': 'sqrt', 'n_estimators': 1000},\n",
       "  {'criterion': 'gini', 'max_features': 'log2', 'n_estimators': 100},\n",
       "  {'criterion': 'gini', 'max_features': 'log2', 'n_estimators': 200},\n",
       "  {'criterion': 'gini', 'max_features': 'log2', 'n_estimators': 500},\n",
       "  {'criterion': 'gini', 'max_features': 'log2', 'n_estimators': 1000},\n",
       "  {'criterion': 'gini', 'max_features': None, 'n_estimators': 100},\n",
       "  {'criterion': 'gini', 'max_features': None, 'n_estimators': 200},\n",
       "  {'criterion': 'gini', 'max_features': None, 'n_estimators': 500},\n",
       "  {'criterion': 'gini', 'max_features': None, 'n_estimators': 1000},\n",
       "  {'criterion': 'entropy', 'max_features': 'sqrt', 'n_estimators': 100},\n",
       "  {'criterion': 'entropy', 'max_features': 'sqrt', 'n_estimators': 200},\n",
       "  {'criterion': 'entropy', 'max_features': 'sqrt', 'n_estimators': 500},\n",
       "  {'criterion': 'entropy', 'max_features': 'sqrt', 'n_estimators': 1000},\n",
       "  {'criterion': 'entropy', 'max_features': 'log2', 'n_estimators': 100},\n",
       "  {'criterion': 'entropy', 'max_features': 'log2', 'n_estimators': 200},\n",
       "  {'criterion': 'entropy', 'max_features': 'log2', 'n_estimators': 500},\n",
       "  {'criterion': 'entropy', 'max_features': 'log2', 'n_estimators': 1000},\n",
       "  {'criterion': 'entropy', 'max_features': None, 'n_estimators': 100},\n",
       "  {'criterion': 'entropy', 'max_features': None, 'n_estimators': 200},\n",
       "  {'criterion': 'entropy', 'max_features': None, 'n_estimators': 500},\n",
       "  {'criterion': 'entropy', 'max_features': None, 'n_estimators': 1000}],\n",
       " 'split0_test_score': array([0.95714286, 0.95928571, 0.95428571, 0.95428571, 0.94571429,\n",
       "        0.95785714, 0.95785714, 0.95714286, 0.93285714, 0.93214286,\n",
       "        0.92642857, 0.92785714, 0.95642857, 0.95214286, 0.95857143,\n",
       "        0.95357143, 0.94928571, 0.95428571, 0.95428571, 0.95642857,\n",
       "        0.92      , 0.92857143, 0.93428571, 0.93357143]),\n",
       " 'split1_test_score': array([0.95      , 0.95714286, 0.95214286, 0.955     , 0.94714286,\n",
       "        0.95285714, 0.95      , 0.95428571, 0.93857143, 0.94285714,\n",
       "        0.93928571, 0.94142857, 0.95714286, 0.955     , 0.95357143,\n",
       "        0.95214286, 0.94928571, 0.95      , 0.95      , 0.95142857,\n",
       "        0.93857143, 0.93928571, 0.94285714, 0.94428571]),\n",
       " 'split2_test_score': array([0.955     , 0.95285714, 0.95857143, 0.95785714, 0.94857143,\n",
       "        0.95285714, 0.955     , 0.95642857, 0.92857143, 0.93428571,\n",
       "        0.935     , 0.93714286, 0.95642857, 0.95857143, 0.95857143,\n",
       "        0.95928571, 0.95071429, 0.95428571, 0.95571429, 0.95571429,\n",
       "        0.94      , 0.945     , 0.945     , 0.94428571]),\n",
       " 'split3_test_score': array([0.95571429, 0.96142857, 0.96071429, 0.96142857, 0.955     ,\n",
       "        0.95285714, 0.95571429, 0.95928571, 0.93571429, 0.93428571,\n",
       "        0.93785714, 0.94142857, 0.95571429, 0.96      , 0.96071429,\n",
       "        0.95857143, 0.95285714, 0.95785714, 0.95428571, 0.95714286,\n",
       "        0.94142857, 0.94142857, 0.945     , 0.94142857]),\n",
       " 'split4_test_score': array([0.945     , 0.94428571, 0.94357143, 0.94571429, 0.93785714,\n",
       "        0.94357143, 0.94214286, 0.945     , 0.92      , 0.92142857,\n",
       "        0.92      , 0.92142857, 0.94      , 0.945     , 0.945     ,\n",
       "        0.94357143, 0.94142857, 0.94428571, 0.94357143, 0.94428571,\n",
       "        0.92571429, 0.92714286, 0.92714286, 0.92785714]),\n",
       " 'split5_test_score': array([0.95714286, 0.96      , 0.95928571, 0.95785714, 0.95      ,\n",
       "        0.95642857, 0.96      , 0.96      , 0.93428571, 0.93214286,\n",
       "        0.93285714, 0.93428571, 0.95142857, 0.95642857, 0.95785714,\n",
       "        0.96142857, 0.95428571, 0.955     , 0.96      , 0.95571429,\n",
       "        0.93571429, 0.94      , 0.93857143, 0.93714286]),\n",
       " 'split6_test_score': array([0.96214286, 0.96642857, 0.96785714, 0.97285714, 0.96      ,\n",
       "        0.96285714, 0.96857143, 0.96857143, 0.94571429, 0.94357143,\n",
       "        0.94357143, 0.94428571, 0.96571429, 0.965     , 0.97      ,\n",
       "        0.96857143, 0.96142857, 0.96214286, 0.96714286, 0.965     ,\n",
       "        0.95357143, 0.95571429, 0.96214286, 0.96071429]),\n",
       " 'split7_test_score': array([0.95785714, 0.95642857, 0.95928571, 0.95857143, 0.95785714,\n",
       "        0.96214286, 0.95714286, 0.96      , 0.93785714, 0.93785714,\n",
       "        0.93785714, 0.93928571, 0.955     , 0.95571429, 0.95714286,\n",
       "        0.95714286, 0.95642857, 0.96      , 0.96071429, 0.96142857,\n",
       "        0.92928571, 0.93428571, 0.93642857, 0.93571429]),\n",
       " 'split8_test_score': array([0.96      , 0.96142857, 0.96      , 0.95928571, 0.95642857,\n",
       "        0.955     , 0.95928571, 0.95928571, 0.93071429, 0.93642857,\n",
       "        0.93785714, 0.93642857, 0.95642857, 0.95785714, 0.95928571,\n",
       "        0.95928571, 0.95428571, 0.95785714, 0.95928571, 0.95642857,\n",
       "        0.94428571, 0.95142857, 0.94928571, 0.95071429]),\n",
       " 'split9_test_score': array([0.96214286, 0.96357143, 0.96285714, 0.96571429, 0.96142857,\n",
       "        0.96285714, 0.96571429, 0.965     , 0.93571429, 0.93857143,\n",
       "        0.93928571, 0.94142857, 0.96214286, 0.96142857, 0.96214286,\n",
       "        0.96428571, 0.96428571, 0.96357143, 0.96357143, 0.96142857,\n",
       "        0.94428571, 0.94642857, 0.94285714, 0.945     ]),\n",
       " 'mean_test_score': array([0.95621429, 0.95828571, 0.95785714, 0.95885714, 0.952     ,\n",
       "        0.95592857, 0.95714286, 0.9585    , 0.934     , 0.93535714,\n",
       "        0.935     , 0.9365    , 0.95564286, 0.95671429, 0.95828571,\n",
       "        0.95778571, 0.95342857, 0.95592857, 0.95685714, 0.9565    ,\n",
       "        0.93728571, 0.94092857, 0.94235714, 0.94207143]),\n",
       " 'std_test_score': array([0.00505127, 0.00590054, 0.00625969, 0.00678534, 0.00703345,\n",
       "        0.00566091, 0.00707107, 0.0059629 , 0.00645392, 0.00598681,\n",
       "        0.00661631, 0.0066964 , 0.0064083 , 0.00518239, 0.0059949 ,\n",
       "        0.00655004, 0.00615116, 0.00545903, 0.00647759, 0.00545342,\n",
       "        0.00942641, 0.0087543 , 0.00894456, 0.00883205]),\n",
       " 'rank_test_score': array([11,  3,  5,  1, 16, 12,  7,  2, 24, 22, 23, 21, 14,  9,  3,  6, 15,\n",
       "        12,  8, 10, 20, 19, 17, 18]),\n",
       " 'split0_train_score': array([1., 1., 1., 1., 1., 1., 1., 1., 1., 1., 1., 1., 1., 1., 1., 1., 1.,\n",
       "        1., 1., 1., 1., 1., 1., 1.]),\n",
       " 'split1_train_score': array([1., 1., 1., 1., 1., 1., 1., 1., 1., 1., 1., 1., 1., 1., 1., 1., 1.,\n",
       "        1., 1., 1., 1., 1., 1., 1.]),\n",
       " 'split2_train_score': array([1., 1., 1., 1., 1., 1., 1., 1., 1., 1., 1., 1., 1., 1., 1., 1., 1.,\n",
       "        1., 1., 1., 1., 1., 1., 1.]),\n",
       " 'split3_train_score': array([1., 1., 1., 1., 1., 1., 1., 1., 1., 1., 1., 1., 1., 1., 1., 1., 1.,\n",
       "        1., 1., 1., 1., 1., 1., 1.]),\n",
       " 'split4_train_score': array([1., 1., 1., 1., 1., 1., 1., 1., 1., 1., 1., 1., 1., 1., 1., 1., 1.,\n",
       "        1., 1., 1., 1., 1., 1., 1.]),\n",
       " 'split5_train_score': array([1.        , 1.        , 1.        , 1.        , 1.        ,\n",
       "        1.        , 1.        , 1.        , 1.        , 1.        ,\n",
       "        1.        , 1.        , 1.        , 1.        , 1.        ,\n",
       "        1.        , 1.        , 1.        , 1.        , 1.        ,\n",
       "        0.99992063, 1.        , 1.        , 1.        ]),\n",
       " 'split6_train_score': array([1., 1., 1., 1., 1., 1., 1., 1., 1., 1., 1., 1., 1., 1., 1., 1., 1.,\n",
       "        1., 1., 1., 1., 1., 1., 1.]),\n",
       " 'split7_train_score': array([1., 1., 1., 1., 1., 1., 1., 1., 1., 1., 1., 1., 1., 1., 1., 1., 1.,\n",
       "        1., 1., 1., 1., 1., 1., 1.]),\n",
       " 'split8_train_score': array([1., 1., 1., 1., 1., 1., 1., 1., 1., 1., 1., 1., 1., 1., 1., 1., 1.,\n",
       "        1., 1., 1., 1., 1., 1., 1.]),\n",
       " 'split9_train_score': array([1., 1., 1., 1., 1., 1., 1., 1., 1., 1., 1., 1., 1., 1., 1., 1., 1.,\n",
       "        1., 1., 1., 1., 1., 1., 1.]),\n",
       " 'mean_train_score': array([1.        , 1.        , 1.        , 1.        , 1.        ,\n",
       "        1.        , 1.        , 1.        , 1.        , 1.        ,\n",
       "        1.        , 1.        , 1.        , 1.        , 1.        ,\n",
       "        1.        , 1.        , 1.        , 1.        , 1.        ,\n",
       "        0.99999206, 1.        , 1.        , 1.        ]),\n",
       " 'std_train_score': array([0.00000000e+00, 0.00000000e+00, 0.00000000e+00, 0.00000000e+00,\n",
       "        0.00000000e+00, 0.00000000e+00, 0.00000000e+00, 0.00000000e+00,\n",
       "        0.00000000e+00, 0.00000000e+00, 0.00000000e+00, 0.00000000e+00,\n",
       "        0.00000000e+00, 0.00000000e+00, 0.00000000e+00, 0.00000000e+00,\n",
       "        0.00000000e+00, 0.00000000e+00, 0.00000000e+00, 0.00000000e+00,\n",
       "        2.38095238e-05, 0.00000000e+00, 0.00000000e+00, 0.00000000e+00])}"
      ]
     },
     "execution_count": 4,
     "metadata": {},
     "output_type": "execute_result"
    }
   ],
   "source": [
    "grid_RF.cv_results_"
   ]
  },
  {
   "cell_type": "code",
   "execution_count": 5,
   "metadata": {},
   "outputs": [
    {
     "data": {
      "text/plain": [
       "{'criterion': 'gini', 'max_features': 'sqrt', 'n_estimators': 1000}"
      ]
     },
     "execution_count": 5,
     "metadata": {},
     "output_type": "execute_result"
    }
   ],
   "source": [
    "grid_RF.best_params_"
   ]
  },
  {
   "cell_type": "code",
   "execution_count": 6,
   "metadata": {},
   "outputs": [
    {
     "name": "stdout",
     "output_type": "stream",
     "text": [
      "Training time:  72.01904273033142\n",
      "Test time:  2.6691880226135254\n",
      "Test accuracy =  0.9672142857142857\n"
     ]
    }
   ],
   "source": [
    "bes_grid_RF = RandomForestClassifier(n_estimators = 1000, criterion = 'gini', max_features = 'sqrt', n_jobs = -1)\n",
    "\n",
    "start_train = time.time()\n",
    "bes_grid_RF.fit(X_train, y_train)\n",
    "time_train = time.time() - start_train\n",
    "\n",
    "start_test = time.time()\n",
    "y_pred = bes_grid_RF.predict(X_test)\n",
    "time_test = time.time() - start_test\n",
    "\n",
    "score = accuracy_score(y_test, y_pred)\n",
    "\n",
    "print('Training time: ', time_train)\n",
    "print('Test time: ', time_test)\n",
    "print('Test accuracy = ', score)"
   ]
  },
  {
   "cell_type": "code",
   "execution_count": 7,
   "metadata": {},
   "outputs": [
    {
     "data": {
      "image/png": "[encoded data removed]",
      "text/plain": [
       "<Figure size 720x432 with 2 Axes>"
      ]
     },
     "metadata": {
      "needs_background": "light"
     },
     "output_type": "display_data"
    }
   ],
   "source": [
    "cm = confusion_matrix(y_test, y_pred)\n",
    "matplot.subplots(figsize=(10, 6))\n",
    "sb.heatmap(cm, annot = True, fmt = 'g')\n",
    "matplot.xlabel(\"Predicted\")\n",
    "matplot.ylabel(\"Actual\")\n",
    "matplot.title(\"Confusion Matrix\")\n",
    "matplot.show()"
   ]
  }
 ],
 "metadata": {
  "kernelspec": {
   "display_name": "Python 3",
   "language": "python",
   "name": "python3"
  },
  "language_info": {
   "codemirror_mode": {
    "name": "ipython",
    "version": 3
   },
   "file_extension": ".py",
   "mimetype": "text/x-python",
   "name": "python",
   "nbconvert_exporter": "python",
   "pygments_lexer": "ipython3",
   "version": "3.8.5"
  }
 },
 "nbformat": 4,
 "nbformat_minor": 4
}
