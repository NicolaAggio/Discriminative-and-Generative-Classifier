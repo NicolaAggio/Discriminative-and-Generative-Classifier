{
 "cells": [
  {
   "cell_type": "code",
   "execution_count": null,
   "metadata": {},
   "outputs": [],
   "source": [
    "import matplotlib.pyplot as matplot\n",
    "import seaborn as sb\n",
    "import pandas as pd\n",
    "import time\n",
    "from sklearn.svm import SVC\n",
    "from sklearn.datasets import fetch_openml\n",
    "from sklearn.metrics import accuracy_score, confusion_matrix\n",
    "from sklearn.model_selection import train_test_split, cross_val_score"
   ]
  },
  {
   "cell_type": "code",
   "execution_count": null,
   "metadata": {},
   "outputs": [],
   "source": [
    "X,y = fetch_openml('mnist_784', version=1, return_X_y=True)\n",
    "y = y.astype(int)\n",
    "X = X/255"
   ]
  },
  {
   "cell_type": "code",
   "execution_count": null,
   "metadata": {},
   "outputs": [],
   "source": [
    "X_train_90, X_test, y_train_90, y_test = train_test_split(X, y, test_size = 0.1, random_state = 0)\n",
    "X_train, X_valid , y_train, y_valid = train_test_split(X_train_90, y_train_90, test_size = 0.25, random_state=0)\n",
    "\n",
    "print('DATASET')\n",
    "print(X.shape, y.shape)\n",
    "print('TRAIN')\n",
    "print(X_train.shape, y_train.shape)\n",
    "print('VALIDATION')\n",
    "print(X_valid.shape, y_valid.shape)\n",
    "print('TEST')\n",
    "print(X_test.shape, y_test.shape)"
   ]
  },
  {
   "cell_type": "markdown",
   "metadata": {},
   "source": [
    "## LINEAR SVC"
   ]
  },
  {
   "cell_type": "markdown",
   "metadata": {},
   "source": [
    "First, we train a linear SVC without any parameter."
   ]
  },
  {
   "cell_type": "code",
   "execution_count": null,
   "metadata": {},
   "outputs": [],
   "source": [
    "linear_SVC = SVC(kernel = 'linear')\n",
    "linear_SVC.fit(X_train, y_train)\n",
    "y_pred = linear_SVC.predict(X_test)\n",
    "score = accuracy_score(y_test, y_pred)\n",
    "print('Accuracy = ', score)"
   ]
  },
  {
   "cell_type": "code",
   "execution_count": null,
   "metadata": {},
   "outputs": [],
   "source": [
    "cm = confusion_matrix(y_test, y_pred)\n",
    "matplot.subplots(figsize=(10, 6))\n",
    "sb.heatmap(cm, annot = True, fmt = 'g')\n",
    "matplot.xlabel(\"Predicted\")\n",
    "matplot.ylabel(\"Actual\")\n",
    "matplot.title(\"Confusion Matrix\")\n",
    "matplot.show()"
   ]
  },
  {
   "cell_type": "markdown",
   "metadata": {},
   "source": [
    "Now we tune the hyperparaters of the estimator without cross validation approach."
   ]
  },
  {
   "cell_type": "code",
   "execution_count": null,
   "metadata": {},
   "outputs": [],
   "source": [
    "acc = []\n",
    "acc_tr = []\n",
    "coefficient = []\n",
    "for c in [0.0001,0.001,0.01,0.1,1,10,100,1000,10000]:\n",
    "    print(c)\n",
    "    svm = SVC(kernel='linear', C=c)\n",
    "    svm.fit(X_train, y_train)\n",
    "    coef = svm.coef_\n",
    "    \n",
    "    predict_train = svm.predict(X_train)\n",
    "    accuracy_train = accuracy_score(predict_train, y_train)\n",
    "    \n",
    "    predict_valid = svm.predict(X_valid)\n",
    "    accuracy_valid = accuracy_score(predict_valid, y_valid)\n",
    "    \n",
    "    coefficient.append(coef)\n",
    "    acc_tr.append(accuracy_train)\n",
    "    acc.append(accuracy_valid)"
   ]
  },
  {
   "cell_type": "code",
   "execution_count": null,
   "metadata": {},
   "outputs": [],
   "source": [
    "c = [0.0001,0.001,0.01,0.1,1,10,100,1000,10000]\n",
    "\n",
    "matplot.subplots(figsize=(10, 5))\n",
    "matplot.semilogx(c, acc,'-gD' ,color='red' , label=\"Validation Accuracy\")\n",
    "matplot.semilogx(c, acc_tr,'-gD' , label=\"Training Accuracy\")\n",
    "matplot.grid(True)\n",
    "matplot.xlabel(\"Cost Parameter C\")\n",
    "matplot.ylabel(\"Accuracy\")\n",
    "matplot.legend()\n",
    "matplot.title('Accuracy versus the Cost Parameter C (log-scale)')\n",
    "matplot.show()"
   ]
  },
  {
   "cell_type": "markdown",
   "metadata": {},
   "source": [
    "Now, with cross-validation."
   ]
  },
  {
   "cell_type": "code",
   "execution_count": null,
   "metadata": {},
   "outputs": [],
   "source": [
    "accuracies = []\n",
    "for c in [0.0001,0.001,0.01,0.1,1,10,100,1000,10000]:\n",
    "    svm = SVC(kernel='linear', C=c)\n",
    "    scores = cross_val_score(svm, X_valid, y_valid, cv = 10, n_jobs=10, verbose  = 0)\n",
    "    validation_accuracy = scores.mean()\n",
    "    print('C: {:8.3f} - Validation accuracy: {:.3f}'.format(c, validation_accuracy))\n",
    "    accuracies += [[validation_accuracy, c]]\n",
    "\n",
    "best_accuracy, best_c = max(accuracies)\n",
    "print('Best C = ',best_c)"
   ]
  },
  {
   "cell_type": "markdown",
   "metadata": {},
   "source": [
    "Finally, we consider the best model and we fit it."
   ]
  },
  {
   "cell_type": "code",
   "execution_count": null,
   "metadata": {},
   "outputs": [],
   "source": [
    "cv_linear_svc = SVC(kernel='linear', C=best_c)\n",
    "\n",
    "start_train = time.time()\n",
    "cv_linear_svc.fit(X_train, y_train)\n",
    "time_train = time.time() - start_train\n",
    "\n",
    "start_test = time.time()\n",
    "y_pred = cv_linear_svc.predict(X_test)\n",
    "time_test = time.time() - start_test\n",
    "\n",
    "score = accuracy_score(y_test, y_pred)\n",
    "\n",
    "print('Training time: ', time_train)\n",
    "print('Test time: ', time_test)\n",
    "print('Test accuracy = ', score)"
   ]
  },
  {
   "cell_type": "code",
   "execution_count": null,
   "metadata": {},
   "outputs": [],
   "source": [
    "cm = confusion_matrix(y_test, y_pred)\n",
    "matplot.subplots(figsize=(10, 6))\n",
    "sb.heatmap(cm, annot = True, fmt = 'g')\n",
    "matplot.xlabel(\"Predicted\")\n",
    "matplot.ylabel(\"Actual\")\n",
    "matplot.title(\"Confusion Matrix\")\n",
    "matplot.show()"
   ]
  },
  {
   "cell_type": "markdown",
   "metadata": {},
   "source": [
    "## POLYNOMIAL SVC (degree = 2)"
   ]
  },
  {
   "cell_type": "code",
   "execution_count": null,
   "metadata": {},
   "outputs": [],
   "source": [
    "accuracies = []\n",
    "df = pd.DataFrame(columns = ['c','gamma','validation_accuracy'])\n",
    "i = 0\n",
    "for c in [0.0001,0.001,0.01,0.1,1,10,100,1000,10000]:\n",
    "    for gam in ['scale', 'auto']:\n",
    "        svm = SVC(C=c, kernel='poly', degree=2, gamma=gam)\n",
    "        scores = cross_val_score(svm, X_valid, y_valid, cv = 10, n_jobs=50, verbose  = 0)\n",
    "        validation_accuracy = scores.mean()\n",
    "        print(f'C: {c} - Gamma : {gam} - Validation accuracy: {validation_accuracy}')\n",
    "        # accuracies += [[validation_accuracy, c, gam]]\n",
    "\n",
    "        df.loc[i] = [c, gam, validation_accuracy]\n",
    "        i += 1\n",
    "\n",
    "print(df)\n",
    "# best_accuracy, best_c, best_gamma = max(accuracies)\n",
    "# print('Best C = ',best_c)\n",
    "# print('Best gamma = ', best_gamma)"
   ]
  },
  {
   "cell_type": "code",
   "execution_count": null,
   "metadata": {},
   "outputs": [],
   "source": [
    "poly_svc = SVC(C = 10, kernel = 'poly', degree=2, gamma = 'scale')\n",
    "\n",
    "start_train = time.time()\n",
    "poly_svc.fit(X_train, y_train)\n",
    "time_train = time.time() - start_train\n",
    "\n",
    "start_test = time.time()\n",
    "y_pred = poly_svc.predict(X_test)\n",
    "time_test = time.time() - start_test\n",
    "\n",
    "score = accuracy_score(y_test, y_pred)\n",
    "print('Train time: ', time_train)\n",
    "print('Test time: ',time_test)\n",
    "print('Test accuracy = ', score)"
   ]
  },
  {
   "cell_type": "code",
   "execution_count": null,
   "metadata": {},
   "outputs": [],
   "source": [
    "cm = confusion_matrix(y_test, y_pred)\n",
    "matplot.subplots(figsize=(10, 6))\n",
    "sb.heatmap(cm, annot = True, fmt = 'g')\n",
    "matplot.xlabel(\"Predicted\")\n",
    "matplot.ylabel(\"Actual\")\n",
    "matplot.title(\"Confusion Matrix\")\n",
    "matplot.show()"
   ]
  },
  {
   "cell_type": "markdown",
   "metadata": {},
   "source": [
    "## RBF SVC"
   ]
  },
  {
   "cell_type": "code",
   "execution_count": null,
   "metadata": {},
   "outputs": [],
   "source": [
    "for c in [0.0001,0.001,0.01,0.1,1,10,100,1000,10000]:\n",
    "    for gam in ['scale', 'auto']:\n",
    "        svm = SVC(C=c, kernel='rbf', degree=2, gamma=gam)\n",
    "        scores = cross_val_score(svm, X_valid, y_valid, cv = 10, n_jobs=50, verbose  = 0)\n",
    "        validation_accuracy = scores.mean()\n",
    "        print(f'C: {c} - Gamma : {gam} - Validation accuracy: {validation_accuracy}')"
   ]
  }
 ],
 "metadata": {
  "kernelspec": {
   "display_name": "Python 3",
   "language": "python",
   "name": "python3"
  },
  "language_info": {
   "codemirror_mode": {
    "name": "ipython",
    "version": 3
   },
   "file_extension": ".py",
   "mimetype": "text/x-python",
   "name": "python",
   "nbconvert_exporter": "python",
   "pygments_lexer": "ipython3",
   "version": "3.8.5"
  },
  "vscode": {
   "interpreter": {
    "hash": "aee8b7b246df8f9039afb4144a1f6fd8d2ca17a180786b69acc140d282b71a49"
   }
  }
 },
 "nbformat": 4,
 "nbformat_minor": 2
}
