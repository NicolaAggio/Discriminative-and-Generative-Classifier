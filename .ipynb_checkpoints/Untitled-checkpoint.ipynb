{
 "cells": [
  {
   "cell_type": "code",
   "execution_count": 1,
   "metadata": {},
   "outputs": [],
   "source": [
    "import matplotlib.pyplot as matplot\n",
    "import seaborn as sb\n",
    "import pandas as pd\n",
    "import numpy as np\n",
    "import time\n",
    "from sklearn.datasets import fetch_openml\n",
    "from sklearn.metrics import accuracy_score, confusion_matrix\n",
    "from sklearn.model_selection import train_test_split, cross_val_score\n",
    "from KNN_new import predict, accuracy\n",
    "from statistics import mean"
   ]
  },
  {
   "cell_type": "code",
   "execution_count": 2,
   "metadata": {},
   "outputs": [
    {
     "name": "stdout",
     "output_type": "stream",
     "text": [
      "--TRAIN SET -- (42000, 719) (42000,)\n",
      "--VALIDATION SET-- (14000, 719) (14000,)\n",
      "--TEST SET-- (14000, 719) (14000,)\n"
     ]
    }
   ],
   "source": [
    "# importing the dataset\n",
    "X,y = fetch_openml('mnist_784', version=1, return_X_y=True)\n",
    "y = y.astype(int)\n",
    "    \n",
    "# deleting the columns with unique values and rescaling\n",
    "X = X[:, ~np.all(X[1:] == X[:-1], axis=0)]\n",
    "X = X/255\n",
    "    \n",
    "# splitting the data into train, validation and test\n",
    "X_train_80, X_test, y_train_80, y_test = train_test_split(X, y, test_size = 0.2, random_state = 0)\n",
    "X_train, X_valid , y_train, y_valid = train_test_split(X_train_80, y_train_80, test_size = 0.25, random_state=0)"
   ]
  },
  {
   "cell_type": "code",
   "execution_count": 3,
   "metadata": {},
   "outputs": [],
   "source": [
    "fold_size = int(X_valid.shape[0] / 10)\n",
    "\n",
    "fold1_X = X_valid[0 : fold_size:, ]\n",
    "fold2_X = X_valid[fold_size : 2 * fold_size:, ]\n",
    "fold3_X = X_valid[2 * fold_size : 3 * fold_size:, ]\n",
    "fold4_X = X_valid[3 * fold_size : 4 * fold_size:, ]\n",
    "fold5_X = X_valid[4 * fold_size : 5 * fold_size:, ]\n",
    "fold6_X = X_valid[5 * fold_size : 6 * fold_size:, ]\n",
    "fold7_X = X_valid[6 * fold_size : 7 * fold_size:, ]\n",
    "fold8_X = X_valid[7 * fold_size : 8 * fold_size:, ]\n",
    "fold9_X = X_valid[8 * fold_size : 9 * fold_size:, ]\n",
    "fold10_X = X_valid[9 * fold_size : 10 * fold_size:, ]\n",
    "\n",
    "fold1_y = y_valid[0 : fold_size:, ]\n",
    "fold2_y = y_valid[fold_size : 2 * fold_size:, ]\n",
    "fold3_y = y_valid[2 * fold_size : 3 * fold_size:, ]\n",
    "fold4_y = y_valid[3 * fold_size : 4 * fold_size:, ]\n",
    "fold5_y = y_valid[4 * fold_size : 5 * fold_size:, ]\n",
    "fold6_y = y_valid[5 * fold_size : 6 * fold_size:, ]\n",
    "fold7_y = y_valid[6 * fold_size : 7 * fold_size:, ]\n",
    "fold8_y = y_valid[7 * fold_size : 8 * fold_size:, ]\n",
    "fold9_y = y_valid[8 * fold_size : 9 * fold_size:, ]\n",
    "fold10_y = y_valid[9 * fold_size : 10 * fold_size:, ]"
   ]
  },
  {
   "cell_type": "code",
   "execution_count": 4,
   "metadata": {},
   "outputs": [],
   "source": [
    "X_train_val1 = np.concatenate([fold1_X, fold2_X, fold3_X, fold4_X, fold5_X, fold6_X, fold7_X, fold8_X, fold9_X])\n",
    "X_test_val1 = fold10_X\n",
    "\n",
    "X_train_val2 = np.concatenate([fold1_X, fold2_X, fold3_X, fold4_X, fold5_X, fold6_X, fold7_X, fold8_X, fold10_X])\n",
    "X_test_val2 = fold9_X\n",
    "\n",
    "X_train_val3 = np.concatenate([fold1_X, fold2_X, fold3_X, fold4_X, fold5_X, fold6_X, fold7_X, fold9_X, fold10_X])\n",
    "X_test_val3 = fold8_X\n",
    "\n",
    "X_train_val4 = np.concatenate([fold1_X, fold2_X, fold3_X, fold4_X, fold5_X, fold6_X, fold8_X, fold9_X, fold10_X])\n",
    "X_test_val4 = fold7_X\n",
    "\n",
    "X_train_val5 = np.concatenate([fold1_X, fold2_X, fold3_X, fold4_X, fold5_X, fold7_X, fold8_X, fold9_X, fold10_X])\n",
    "X_test_val5 = fold6_X\n",
    "\n",
    "X_train_val6 = np.concatenate([fold1_X, fold2_X, fold3_X, fold4_X, fold6_X, fold7_X, fold8_X, fold9_X, fold10_X])\n",
    "X_test_val6 = fold5_X\n",
    "\n",
    "X_train_val7 = np.concatenate([fold1_X, fold2_X, fold3_X, fold5_X, fold6_X, fold7_X, fold8_X, fold9_X, fold10_X])\n",
    "X_test_val7 = fold4_X\n",
    "\n",
    "X_train_val8 = np.concatenate([fold1_X, fold2_X, fold4_X, fold5_X, fold6_X, fold7_X, fold8_X, fold9_X, fold10_X])\n",
    "X_test_val8 = fold3_X\n",
    "\n",
    "X_train_val9 = np.concatenate([fold1_X, fold3_X, fold4_X, fold5_X, fold6_X, fold7_X, fold8_X, fold9_X, fold10_X])\n",
    "X_test_val9 = fold2_X\n",
    "\n",
    "X_train_val10 = np.concatenate([fold2_X, fold3_X, fold4_X, fold5_X, fold6_X, fold7_X, fold8_X, fold9_X, fold10_X])\n",
    "X_test_val10 = fold1_X"
   ]
  },
  {
   "cell_type": "code",
   "execution_count": 5,
   "metadata": {},
   "outputs": [],
   "source": [
    "y_train_val1 = np.concatenate([fold1_y, fold2_y, fold3_y, fold4_y, fold5_y, fold6_y, fold7_y, fold8_y, fold9_y])\n",
    "y_test_val1 = fold10_y\n",
    "\n",
    "y_train_val2 = np.concatenate([fold1_y, fold2_y, fold3_y, fold4_y, fold5_y, fold6_y, fold7_y, fold8_y, fold10_y])\n",
    "y_test_val2 = fold9_y\n",
    "\n",
    "y_train_val3 = np.concatenate([fold1_y, fold2_y, fold3_y, fold4_y, fold5_y, fold6_y, fold7_y, fold9_y, fold10_y])\n",
    "y_test_val3 = fold8_y\n",
    "\n",
    "y_train_val4 = np.concatenate([fold1_y, fold2_y, fold3_y, fold4_y, fold5_y, fold6_y, fold8_y, fold9_y, fold10_y])\n",
    "y_test_val4 = fold7_y\n",
    "\n",
    "y_train_val5 = np.concatenate([fold1_y, fold2_y, fold3_y, fold4_y, fold5_y, fold7_y, fold8_y, fold9_y, fold10_y])\n",
    "y_test_val5 = fold6_y\n",
    "\n",
    "y_train_val6 = np.concatenate([fold1_y, fold2_y, fold3_y, fold4_y, fold6_y, fold7_y, fold8_y, fold9_y, fold10_y])\n",
    "y_test_val6 = fold5_y\n",
    "\n",
    "y_train_val7 = np.concatenate([fold1_y, fold2_y, fold3_y, fold5_y, fold6_y, fold7_y, fold8_y, fold9_y, fold10_y])\n",
    "y_test_val7 = fold4_y\n",
    "\n",
    "y_train_val8 = np.concatenate([fold1_y, fold2_y, fold4_y, fold5_y, fold6_y, fold7_y, fold8_y, fold9_y, fold10_y])\n",
    "y_test_val8 = fold3_y\n",
    "\n",
    "y_train_val9 = np.concatenate([fold1_y, fold3_y, fold4_y, fold5_y, fold6_y, fold7_y, fold8_y, fold9_y, fold10_y])\n",
    "y_test_val9 = fold2_y\n",
    "\n",
    "y_train_val10 = np.concatenate([fold2_y, fold3_y, fold4_y, fold5_y, fold6_y, fold7_y, fold8_y, fold9_y, fold10_y])\n",
    "y_test_val10 = fold1_y"
   ]
  },
  {
   "cell_type": "code",
   "execution_count": 9,
   "metadata": {},
   "outputs": [
    {
     "name": "stdout",
     "output_type": "stream",
     "text": [
      "k: 1 --- Metric : euclidean --- CV accuracy: 0.9541428571428572\n",
      "k: 1 --- Metric : cosine --- CV accuracy: 0.9541428571428572\n",
      "k: 1 --- Metric : manhattan --- CV accuracy: 0.9541428571428572\n",
      "k: 5 --- Metric : euclidean --- CV accuracy: 0.9520714285714286\n",
      "k: 5 --- Metric : cosine --- CV accuracy: 0.9520714285714286\n",
      "k: 5 --- Metric : manhattan --- CV accuracy: 0.9520714285714286\n",
      "k: 10 --- Metric : euclidean --- CV accuracy: 0.9487142857142857\n",
      "k: 10 --- Metric : cosine --- CV accuracy: 0.9487142857142857\n",
      "k: 10 --- Metric : manhattan --- CV accuracy: 0.9487142857142857\n"
     ]
    },
    {
     "ename": "KeyboardInterrupt",
     "evalue": "",
     "output_type": "error",
     "traceback": [
      "\u001b[1;31m---------------------------------------------------------------------------\u001b[0m",
      "\u001b[1;31mKeyboardInterrupt\u001b[0m                         Traceback (most recent call last)",
      "\u001b[1;32m<ipython-input-9-11ee334a3ae9>\u001b[0m in \u001b[0;36m<module>\u001b[1;34m\u001b[0m\n\u001b[0;32m     13\u001b[0m         \u001b[0my_pred_3\u001b[0m \u001b[1;33m=\u001b[0m \u001b[0mpredict\u001b[0m\u001b[1;33m(\u001b[0m\u001b[0mX_train_val3\u001b[0m\u001b[1;33m,\u001b[0m \u001b[0my_train_val3\u001b[0m\u001b[1;33m,\u001b[0m \u001b[0mX_test_val3\u001b[0m\u001b[1;33m,\u001b[0m \u001b[0mmetric\u001b[0m\u001b[1;33m,\u001b[0m \u001b[0mk\u001b[0m\u001b[1;33m)\u001b[0m\u001b[1;33m\u001b[0m\u001b[1;33m\u001b[0m\u001b[0m\n\u001b[0;32m     14\u001b[0m         \u001b[0mscores\u001b[0m\u001b[1;33m.\u001b[0m\u001b[0mappend\u001b[0m\u001b[1;33m(\u001b[0m\u001b[0maccuracy\u001b[0m\u001b[1;33m(\u001b[0m\u001b[0my_test_val3\u001b[0m\u001b[1;33m,\u001b[0m \u001b[0my_pred_3\u001b[0m\u001b[1;33m)\u001b[0m\u001b[1;33m)\u001b[0m\u001b[1;33m\u001b[0m\u001b[1;33m\u001b[0m\u001b[0m\n\u001b[1;32m---> 15\u001b[1;33m         \u001b[0my_pred_4\u001b[0m \u001b[1;33m=\u001b[0m \u001b[0mpredict\u001b[0m\u001b[1;33m(\u001b[0m\u001b[0mX_train_val4\u001b[0m\u001b[1;33m,\u001b[0m \u001b[0my_train_val4\u001b[0m\u001b[1;33m,\u001b[0m \u001b[0mX_test_val4\u001b[0m\u001b[1;33m,\u001b[0m \u001b[0mmetric\u001b[0m\u001b[1;33m,\u001b[0m \u001b[0mk\u001b[0m\u001b[1;33m)\u001b[0m\u001b[1;33m\u001b[0m\u001b[1;33m\u001b[0m\u001b[0m\n\u001b[0m\u001b[0;32m     16\u001b[0m         \u001b[0mscores\u001b[0m\u001b[1;33m.\u001b[0m\u001b[0mappend\u001b[0m\u001b[1;33m(\u001b[0m\u001b[0maccuracy\u001b[0m\u001b[1;33m(\u001b[0m\u001b[0my_test_val4\u001b[0m\u001b[1;33m,\u001b[0m \u001b[0my_pred_4\u001b[0m\u001b[1;33m)\u001b[0m\u001b[1;33m)\u001b[0m\u001b[1;33m\u001b[0m\u001b[1;33m\u001b[0m\u001b[0m\n\u001b[0;32m     17\u001b[0m         \u001b[0my_pred_5\u001b[0m \u001b[1;33m=\u001b[0m \u001b[0mpredict\u001b[0m\u001b[1;33m(\u001b[0m\u001b[0mX_train_val5\u001b[0m\u001b[1;33m,\u001b[0m \u001b[0my_train_val5\u001b[0m\u001b[1;33m,\u001b[0m \u001b[0mX_test_val5\u001b[0m\u001b[1;33m,\u001b[0m \u001b[0mmetric\u001b[0m\u001b[1;33m,\u001b[0m \u001b[0mk\u001b[0m\u001b[1;33m)\u001b[0m\u001b[1;33m\u001b[0m\u001b[1;33m\u001b[0m\u001b[0m\n",
      "\u001b[1;32m~\\Discriminative-and-Generative-Classifier\\KNN_new.py\u001b[0m in \u001b[0;36mpredict\u001b[1;34m(X_train, y, X_input, dist, k)\u001b[0m\n\u001b[0;32m     31\u001b[0m                     \u001b[1;32mif\u001b[0m \u001b[0mdist\u001b[0m \u001b[1;33m==\u001b[0m \u001b[1;34m'manhattan'\u001b[0m\u001b[1;33m:\u001b[0m\u001b[1;33m\u001b[0m\u001b[1;33m\u001b[0m\u001b[0m\n\u001b[0;32m     32\u001b[0m                         \u001b[0mdistances\u001b[0m \u001b[1;33m=\u001b[0m \u001b[0mdistance\u001b[0m\u001b[1;33m.\u001b[0m\u001b[0mcityblock\u001b[0m\u001b[1;33m(\u001b[0m\u001b[0mnp\u001b[0m\u001b[1;33m.\u001b[0m\u001b[0marray\u001b[0m\u001b[1;33m(\u001b[0m\u001b[0mX_train\u001b[0m\u001b[1;33m[\u001b[0m\u001b[0mj\u001b[0m\u001b[1;33m,\u001b[0m\u001b[1;33m:\u001b[0m\u001b[1;33m]\u001b[0m\u001b[1;33m)\u001b[0m \u001b[1;33m,\u001b[0m \u001b[0mitem\u001b[0m\u001b[1;33m)\u001b[0m\u001b[1;33m\u001b[0m\u001b[1;33m\u001b[0m\u001b[0m\n\u001b[1;32m---> 33\u001b[1;33m                     \u001b[1;32melse\u001b[0m\u001b[1;33m:\u001b[0m\u001b[1;33m\u001b[0m\u001b[1;33m\u001b[0m\u001b[0m\n\u001b[0m\u001b[0;32m     34\u001b[0m                         \u001b[0mdistances\u001b[0m \u001b[1;33m=\u001b[0m \u001b[0mdistance\u001b[0m\u001b[1;33m.\u001b[0m\u001b[0meuclidean\u001b[0m\u001b[1;33m(\u001b[0m\u001b[0mnp\u001b[0m\u001b[1;33m.\u001b[0m\u001b[0marray\u001b[0m\u001b[1;33m(\u001b[0m\u001b[0mX_train\u001b[0m\u001b[1;33m[\u001b[0m\u001b[0mj\u001b[0m\u001b[1;33m,\u001b[0m\u001b[1;33m:\u001b[0m\u001b[1;33m]\u001b[0m\u001b[1;33m)\u001b[0m \u001b[1;33m,\u001b[0m \u001b[0mitem\u001b[0m\u001b[1;33m)\u001b[0m\u001b[1;33m\u001b[0m\u001b[1;33m\u001b[0m\u001b[0m\n\u001b[0;32m     35\u001b[0m             \u001b[0mpoint_dist\u001b[0m\u001b[1;33m.\u001b[0m\u001b[0mappend\u001b[0m\u001b[1;33m(\u001b[0m\u001b[0mdistances\u001b[0m\u001b[1;33m)\u001b[0m\u001b[1;33m\u001b[0m\u001b[1;33m\u001b[0m\u001b[0m\n",
      "\u001b[1;32m~\\anaconda3\\lib\\site-packages\\scipy\\spatial\\distance.py\u001b[0m in \u001b[0;36meuclidean\u001b[1;34m(u, v, w)\u001b[0m\n\u001b[0;32m    612\u001b[0m \u001b[1;33m\u001b[0m\u001b[0m\n\u001b[0;32m    613\u001b[0m     \"\"\"\n\u001b[1;32m--> 614\u001b[1;33m     \u001b[1;32mreturn\u001b[0m \u001b[0mminkowski\u001b[0m\u001b[1;33m(\u001b[0m\u001b[0mu\u001b[0m\u001b[1;33m,\u001b[0m \u001b[0mv\u001b[0m\u001b[1;33m,\u001b[0m \u001b[0mp\u001b[0m\u001b[1;33m=\u001b[0m\u001b[1;36m2\u001b[0m\u001b[1;33m,\u001b[0m \u001b[0mw\u001b[0m\u001b[1;33m=\u001b[0m\u001b[0mw\u001b[0m\u001b[1;33m)\u001b[0m\u001b[1;33m\u001b[0m\u001b[1;33m\u001b[0m\u001b[0m\n\u001b[0m\u001b[0;32m    615\u001b[0m \u001b[1;33m\u001b[0m\u001b[0m\n\u001b[0;32m    616\u001b[0m \u001b[1;33m\u001b[0m\u001b[0m\n",
      "\u001b[1;32m~\\anaconda3\\lib\\site-packages\\scipy\\spatial\\distance.py\u001b[0m in \u001b[0;36mminkowski\u001b[1;34m(u, v, p, w)\u001b[0m\n\u001b[0;32m    504\u001b[0m     \u001b[1;32mif\u001b[0m \u001b[0mp\u001b[0m \u001b[1;33m<\u001b[0m \u001b[1;36m1\u001b[0m\u001b[1;33m:\u001b[0m\u001b[1;33m\u001b[0m\u001b[1;33m\u001b[0m\u001b[0m\n\u001b[0;32m    505\u001b[0m         \u001b[1;32mraise\u001b[0m \u001b[0mValueError\u001b[0m\u001b[1;33m(\u001b[0m\u001b[1;34m\"p must be at least 1\"\u001b[0m\u001b[1;33m)\u001b[0m\u001b[1;33m\u001b[0m\u001b[1;33m\u001b[0m\u001b[0m\n\u001b[1;32m--> 506\u001b[1;33m     \u001b[0mu_v\u001b[0m \u001b[1;33m=\u001b[0m \u001b[0mu\u001b[0m \u001b[1;33m-\u001b[0m \u001b[0mv\u001b[0m\u001b[1;33m\u001b[0m\u001b[1;33m\u001b[0m\u001b[0m\n\u001b[0m\u001b[0;32m    507\u001b[0m     \u001b[1;32mif\u001b[0m \u001b[0mw\u001b[0m \u001b[1;32mis\u001b[0m \u001b[1;32mnot\u001b[0m \u001b[1;32mNone\u001b[0m\u001b[1;33m:\u001b[0m\u001b[1;33m\u001b[0m\u001b[1;33m\u001b[0m\u001b[0m\n\u001b[0;32m    508\u001b[0m         \u001b[0mw\u001b[0m \u001b[1;33m=\u001b[0m \u001b[0m_validate_weights\u001b[0m\u001b[1;33m(\u001b[0m\u001b[0mw\u001b[0m\u001b[1;33m)\u001b[0m\u001b[1;33m\u001b[0m\u001b[1;33m\u001b[0m\u001b[0m\n",
      "\u001b[1;31mKeyboardInterrupt\u001b[0m: "
     ]
    }
   ],
   "source": [
    "accuracies = []\n",
    "\n",
    "for k in [1, 5, 10, 100]:\n",
    "    scores = []\n",
    "        \n",
    "    y_pred_1 = predict(X_train_val1, y_train_val1, X_test_val1, 'euclidean', k)\n",
    "    scores.append(accuracy(y_test_val1, y_pred_1))\n",
    "    y_pred_2 = predict(X_train_val2, y_train_val2, X_test_val2, 'euclidean', k)\n",
    "    scores.append(accuracy(y_test_val2, y_pred_2))\n",
    "    y_pred_3 = predict(X_train_val3, y_train_val3, X_test_val3, 'euclidean', k)\n",
    "    scores.append(accuracy(y_test_val3, y_pred_3))\n",
    "    y_pred_4 = predict(X_train_val4, y_train_val4, X_test_val4, 'euclidean', k)\n",
    "    scores.append(accuracy(y_test_val4, y_pred_4))\n",
    "    y_pred_5 = predict(X_train_val5, y_train_val5, X_test_val5, 'euclidean', k)\n",
    "    scores.append(accuracy(y_test_val5, y_pred_5))\n",
    "    y_pred_6 = predict(X_train_val6, y_train_val6, X_test_val6, 'euclidean', k)\n",
    "    scores.append(accuracy(y_test_val6, y_pred_6))\n",
    "    y_pred_7 = predict(X_train_val7, y_train_val7, X_test_val7, 'euclidean', k)\n",
    "    scores.append(accuracy(y_test_val7, y_pred_7))\n",
    "    y_pred_8 = predict(X_train_val8, y_train_val8, X_test_val8, 'euclidean', k)\n",
    "    scores.append(accuracy(y_test_val8, y_pred_8))\n",
    "    y_pred_9 = predict(X_train_val9, y_train_val9, X_test_val9, 'euclidean', k)\n",
    "    scores.append(accuracy(y_test_val9, y_pred_9))\n",
    "    y_pred_10 = predict(X_train_val10, y_train_val10, X_test_val10, 'euclidean', k)\n",
    "    scores.append(accuracy(y_test_val10, y_pred_10))\n",
    "        \n",
    "    acc = mean(scores)\n",
    "        \n",
    "    print(f'k: {k} --- CV accuracy: {acc}')\n",
    "        \n",
    "    accuracies.append(acc)"
   ]
  },
  {
   "cell_type": "code",
   "execution_count": 10,
   "metadata": {},
   "outputs": [
    {
     "data": {
      "image/png": "[encoded data removed]",
      "text/plain": [
       "<Figure size 720x360 with 1 Axes>"
      ]
     },
     "metadata": {
      "needs_background": "light"
     },
     "output_type": "display_data"
    }
   ],
   "source": [
    "k = [1, 5, 10]\n",
    "\n",
    "matplot.subplots(figsize=(10, 5))\n",
    "matplot.semilogx(k, accuracies,'-gD' ,color='red' , label=\"Accuracy\")\n",
    "matplot.grid(True)\n",
    "matplot.xlabel(\"Neirest neighbors k\")\n",
    "matplot.ylabel(\"Accuracy\")\n",
    "matplot.legend()\n",
    "matplot.title('Accuracy versus the number of neighbors K (log-scale)')\n",
    "matplot.show()"
   ]
  },
  {
   "cell_type": "code",
   "execution_count": null,
   "metadata": {},
   "outputs": [],
   "source": [
    "start_test = time.time()\n",
    "y_pred = predict(X_train, y_train, X_test, 'euclidean', 1)\n",
    "time_test = time.time() - start_test\n",
    "\n",
    "score = accuracy(y_test, y_pred)\n",
    "\n",
    "print('Test time: ', time_test)\n",
    "print('Accuracy: ', score)"
   ]
  },
  {
   "cell_type": "code",
   "execution_count": null,
   "metadata": {},
   "outputs": [],
   "source": [
    "cm = confusion_matrix(y_test, y_pred)\n",
    "matplot.subplots(figsize=(10, 6))\n",
    "sb.heatmap(cm, annot = True, fmt = 'g')\n",
    "matplot.xlabel(\"Predicted\")\n",
    "matplot.ylabel(\"Actual\")\n",
    "matplot.title(\"Confusion Matrix\")\n",
    "matplot.show()"
   ]
  }
 ],
 "metadata": {
  "kernelspec": {
   "display_name": "Python 3",
   "language": "python",
   "name": "python3"
  },
  "language_info": {
   "codemirror_mode": {
    "name": "ipython",
    "version": 3
   },
   "file_extension": ".py",
   "mimetype": "text/x-python",
   "name": "python",
   "nbconvert_exporter": "python",
   "pygments_lexer": "ipython3",
   "version": "3.8.5"
  }
 },
 "nbformat": 4,
 "nbformat_minor": 4
}
