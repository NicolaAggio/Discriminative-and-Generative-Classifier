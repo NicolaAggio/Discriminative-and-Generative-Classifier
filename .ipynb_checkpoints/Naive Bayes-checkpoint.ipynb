{
 "cells": [
  {
   "cell_type": "code",
   "execution_count": 1,
   "metadata": {},
   "outputs": [],
   "source": [
    "import matplotlib.pyplot as matplot\n",
    "import seaborn as sb\n",
    "import pandas as pd\n",
    "import numpy as np\n",
    "import time\n",
    "from sklearn.datasets import fetch_openml\n",
    "from sklearn.metrics import accuracy_score, confusion_matrix\n",
    "from sklearn.model_selection import train_test_split, cross_val_score\n",
    "from NaiveBayes import NaiveBayes, accuracy"
   ]
  },
  {
   "cell_type": "code",
   "execution_count": 2,
   "metadata": {},
   "outputs": [
    {
     "name": "stdout",
     "output_type": "stream",
     "text": [
      "--TRAIN SET -- (56000, 719) (56000,)\n",
      "--TEST SET-- (14000, 719) (14000,)\n"
     ]
    }
   ],
   "source": [
    "# importing the dataset\n",
    "X,y = fetch_openml('mnist_784', version=1, return_X_y=True)\n",
    "y = y.astype(int)\n",
    "    \n",
    "# deleting the columns with unique values and rescaling\n",
    "X = X[:, ~np.all(X[1:] == X[:-1], axis=0)]\n",
    "X = X/255\n",
    "    \n",
    "# splitting the data into train, validation and test\n",
    "X_train, X_test, y_train, y_test = train_test_split(X, y, test_size = 0.2, random_state = 0)"
   ]
  },
  {
   "cell_type": "code",
   "execution_count": 3,
   "metadata": {},
   "outputs": [],
   "source": [
    "train = np.concatenate((X_train, y_train[:, None]), axis = 1)\n",
    "test = np.concatenate((X_test, y_test[:, None]), axis = 1)"
   ]
  },
  {
   "cell_type": "code",
   "execution_count": null,
   "metadata": {},
   "outputs": [
    {
     "name": "stdout",
     "output_type": "stream",
     "text": [
      "Starting the predictions..\n"
     ]
    },
    {
     "name": "stderr",
     "output_type": "stream",
     "text": [
      "C:\\Users\\naggi\\Discriminative-and-Generative-Classifier\\NaiveBayes.py:34: RuntimeWarning: invalid value encountered in double_scalars\n",
      "  k = ((mean * (1-mean))/(stdev**2)) - 1\n",
      "C:\\Users\\naggi\\Discriminative-and-Generative-Classifier\\NaiveBayes.py:51: RuntimeWarning: invalid value encountered in log\n",
      "  probabilities[class_value] = np.log(probabilities[class_value]) + np.log(calculate_probability(row[i], mean, stdev))\n",
      "C:\\Users\\naggi\\Discriminative-and-Generative-Classifier\\NaiveBayes.py:51: RuntimeWarning: divide by zero encountered in log\n",
      "  probabilities[class_value] = np.log(probabilities[class_value]) + np.log(calculate_probability(row[i], mean, stdev))\n"
     ]
    }
   ],
   "source": [
    "start_test = time.time()\n",
    "pred = NaiveBayes(train, test)\n",
    "time_test = time.time() - start_test\n",
    "\n",
    "score = accuracy(test[:,-1], pred)\n",
    "print('Test time: ', time_test)\n",
    "print('Accuracy: ', score)"
   ]
  },
  {
   "cell_type": "code",
   "execution_count": null,
   "metadata": {
    "scrolled": false
   },
   "outputs": [],
   "source": [
    "cm = confusion_matrix(test[:,-1], pred)\n",
    "matplot.subplots(figsize=(10, 6))\n",
    "sb.heatmap(cm, annot = True, fmt = 'g')\n",
    "matplot.xlabel(\"Predicted\")\n",
    "matplot.ylabel(\"Actual\")\n",
    "matplot.title(\"Confusion Matrix\")\n",
    "matplot.show()"
   ]
  }
 ],
 "metadata": {
  "kernelspec": {
   "display_name": "Python 3",
   "language": "python",
   "name": "python3"
  },
  "language_info": {
   "codemirror_mode": {
    "name": "ipython",
    "version": 3
   },
   "file_extension": ".py",
   "mimetype": "text/x-python",
   "name": "python",
   "nbconvert_exporter": "python",
   "pygments_lexer": "ipython3",
   "version": "3.8.5"
  },
  "vscode": {
   "interpreter": {
    "hash": "89856bdab09c39aefbf3209efc6bdf7de9c55ab8d3adb613190e6747f16e35fa"
   }
  }
 },
 "nbformat": 4,
 "nbformat_minor": 4
}
