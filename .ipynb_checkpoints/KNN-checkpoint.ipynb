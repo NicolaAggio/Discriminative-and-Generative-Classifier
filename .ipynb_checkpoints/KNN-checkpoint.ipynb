{
 "cells": [
  {
   "cell_type": "code",
   "execution_count": 1,
   "metadata": {},
   "outputs": [],
   "source": [
    "import matplotlib.pyplot as matplot\n",
    "import seaborn as sb\n",
    "import pandas as pd\n",
    "import numpy as np\n",
    "import time\n",
    "from sklearn.datasets import fetch_openml\n",
    "from sklearn.metrics import accuracy_score, confusion_matrix\n",
    "from sklearn.model_selection import train_test_split, cross_val_score\n",
    "from KNN import KNN, accuracy\n",
    "from statistics import mean"
   ]
  },
  {
   "cell_type": "code",
   "execution_count": 2,
   "metadata": {},
   "outputs": [
    {
     "name": "stdout",
     "output_type": "stream",
     "text": [
      "--TRAIN SET -- (42000, 719) (42000,)\n",
      "--VALIDATION SET-- (14000, 719) (14000,)\n",
      "--TEST SET-- (14000, 719) (14000,)\n"
     ]
    }
   ],
   "source": [
    "# importing the dataset\n",
    "X,y = fetch_openml('mnist_784', version=1, return_X_y=True)\n",
    "y = y.astype(int)\n",
    "    \n",
    "# deleting the columns with unique values and rescaling\n",
    "X = X[:, ~np.all(X[1:] == X[:-1], axis=0)]\n",
    "X = X/255\n",
    "    \n",
    "# splitting the data into train, validation and test\n",
    "X_train_80, X_test, y_train_80, y_test = train_test_split(X, y, test_size = 0.2, random_state = 0)\n",
    "X_train, X_valid , y_train, y_valid = train_test_split(X_train_80, y_train_80, test_size = 0.25, random_state=0)\n",
    "\n",
    "print('--TRAIN SET --', X_train.shape, y_train.shape)\n",
    "print('--VALIDATION SET--', X_valid.shape, y_valid.shape)\n",
    "print('--TEST SET--', X_test.shape, y_test.shape)"
   ]
  },
  {
   "cell_type": "code",
   "execution_count": 3,
   "metadata": {},
   "outputs": [
    {
     "name": "stdout",
     "output_type": "stream",
     "text": [
      "1400\n",
      "(1400,)\n"
     ]
    }
   ],
   "source": [
    "fold_size = int(X_valid.shape[0] / 10)\n",
    "\n",
    "fold1_X = X_valid[0 : fold_size:, ]\n",
    "fold2_X = X_valid[fold_size : 2 * fold_size:, ]\n",
    "fold3_X = X_valid[2 * fold_size : 3 * fold_size:, ]\n",
    "fold4_X = X_valid[3 * fold_size : 4 * fold_size:, ]\n",
    "fold5_X = X_valid[4 * fold_size : 5 * fold_size:, ]\n",
    "fold6_X = X_valid[5 * fold_size : 6 * fold_size:, ]\n",
    "fold7_X = X_valid[6 * fold_size : 7 * fold_size:, ]\n",
    "fold8_X = X_valid[7 * fold_size : 8 * fold_size:, ]\n",
    "fold9_X = X_valid[8 * fold_size : 9 * fold_size:, ]\n",
    "fold10_X = X_valid[9 * fold_size : 10 * fold_size:, ]\n",
    "\n",
    "fold1_y = y_valid[0 : fold_size:, ]\n",
    "fold2_y = y_valid[fold_size : 2 * fold_size:, ]\n",
    "fold3_y = y_valid[2 * fold_size : 3 * fold_size:, ]\n",
    "fold4_y = y_valid[3 * fold_size : 4 * fold_size:, ]\n",
    "fold5_y = y_valid[4 * fold_size : 5 * fold_size:, ]\n",
    "fold6_y = y_valid[5 * fold_size : 6 * fold_size:, ]\n",
    "fold7_y = y_valid[6 * fold_size : 7 * fold_size:, ]\n",
    "fold8_y = y_valid[7 * fold_size : 8 * fold_size:, ]\n",
    "fold9_y = y_valid[8 * fold_size : 9 * fold_size:, ]\n",
    "fold10_y = y_valid[9 * fold_size : 10 * fold_size:, ]\n",
    "\n",
    "print(fold3_X.shape[0])\n",
    "print(fold3_y.shape)"
   ]
  },
  {
   "cell_type": "code",
   "execution_count": 4,
   "metadata": {},
   "outputs": [
    {
     "name": "stdout",
     "output_type": "stream",
     "text": [
      "k: 1 --- Metric : euclidean --- CV accuracy: 0.9512857142857143\n",
      "k: 1 --- Metric : cosine --- CV accuracy: 0.9491428571428572\n",
      "k: 1 --- Metric : manhattan --- CV accuracy: 0.9473571428571429\n",
      "k: 5 --- Metric : euclidean --- CV accuracy: 0.9253571428571429\n",
      "k: 5 --- Metric : cosine --- CV accuracy: 0.9376428571428571\n",
      "k: 5 --- Metric : manhattan --- CV accuracy: 0.9137857142857143\n",
      "k: 100 --- Metric : euclidean --- CV accuracy: 0.7421428571428572\n",
      "k: 100 --- Metric : cosine --- CV accuracy: 0.8121428571428572\n",
      "k: 100 --- Metric : manhattan --- CV accuracy: 0.701\n",
      "k: 500 --- Metric : euclidean --- CV accuracy: 0.4546428571428571\n",
      "k: 500 --- Metric : cosine --- CV accuracy: 0.6247142857142857\n",
      "k: 500 --- Metric : manhattan --- CV accuracy: 0.392\n",
      "k: 1000 --- Metric : euclidean --- CV accuracy: 0.24342857142857144\n",
      "k: 1000 --- Metric : cosine --- CV accuracy: 0.37592857142857145\n",
      "k: 1000 --- Metric : manhattan --- CV accuracy: 0.21578571428571428\n"
     ]
    },
    {
     "ename": "IndexError",
     "evalue": "list index out of range",
     "output_type": "error",
     "traceback": [
      "\u001b[1;31m---------------------------------------------------------------------------\u001b[0m",
      "\u001b[1;31mIndexError\u001b[0m                                Traceback (most recent call last)",
      "\u001b[1;32m<ipython-input-4-ed8fd93c9370>\u001b[0m in \u001b[0;36m<module>\u001b[1;34m\u001b[0m\n\u001b[0;32m      7\u001b[0m         \u001b[0mscores\u001b[0m \u001b[1;33m=\u001b[0m \u001b[1;33m[\u001b[0m\u001b[1;33m]\u001b[0m\u001b[1;33m\u001b[0m\u001b[1;33m\u001b[0m\u001b[0m\n\u001b[0;32m      8\u001b[0m \u001b[1;33m\u001b[0m\u001b[0m\n\u001b[1;32m----> 9\u001b[1;33m         \u001b[0my_pred_1\u001b[0m \u001b[1;33m=\u001b[0m \u001b[0mKNN\u001b[0m\u001b[1;33m(\u001b[0m\u001b[0mfold1_X\u001b[0m\u001b[1;33m,\u001b[0m \u001b[0mfold1_y\u001b[0m\u001b[1;33m,\u001b[0m \u001b[0mk\u001b[0m\u001b[1;33m,\u001b[0m \u001b[0mmetric\u001b[0m\u001b[1;33m)\u001b[0m\u001b[1;33m\u001b[0m\u001b[1;33m\u001b[0m\u001b[0m\n\u001b[0m\u001b[0;32m     10\u001b[0m         \u001b[0mscores\u001b[0m\u001b[1;33m.\u001b[0m\u001b[0mappend\u001b[0m\u001b[1;33m(\u001b[0m\u001b[0maccuracy\u001b[0m\u001b[1;33m(\u001b[0m\u001b[0mfold1_y\u001b[0m\u001b[1;33m,\u001b[0m \u001b[0my_pred_1\u001b[0m\u001b[1;33m)\u001b[0m\u001b[1;33m)\u001b[0m\u001b[1;33m\u001b[0m\u001b[1;33m\u001b[0m\u001b[0m\n\u001b[0;32m     11\u001b[0m         \u001b[0my_pred_2\u001b[0m \u001b[1;33m=\u001b[0m \u001b[0mKNN\u001b[0m\u001b[1;33m(\u001b[0m\u001b[0mfold2_X\u001b[0m\u001b[1;33m,\u001b[0m \u001b[0mfold2_y\u001b[0m\u001b[1;33m,\u001b[0m \u001b[0mk\u001b[0m\u001b[1;33m,\u001b[0m \u001b[0mmetric\u001b[0m\u001b[1;33m)\u001b[0m\u001b[1;33m\u001b[0m\u001b[1;33m\u001b[0m\u001b[0m\n",
      "\u001b[1;32m~\\Discriminative-and-Generative-Classifier\\utils.py\u001b[0m in \u001b[0;36mKNN\u001b[1;34m(X, y, k, metric)\u001b[0m\n\u001b[0;32m     44\u001b[0m     \u001b[1;32mfor\u001b[0m \u001b[0mi\u001b[0m \u001b[1;32min\u001b[0m \u001b[0mrange\u001b[0m \u001b[1;33m(\u001b[0m\u001b[0mX\u001b[0m\u001b[1;33m.\u001b[0m\u001b[0mshape\u001b[0m\u001b[1;33m[\u001b[0m\u001b[1;36m0\u001b[0m\u001b[1;33m]\u001b[0m\u001b[1;33m)\u001b[0m\u001b[1;33m:\u001b[0m\u001b[1;33m\u001b[0m\u001b[1;33m\u001b[0m\u001b[0m\n\u001b[0;32m     45\u001b[0m         \u001b[0mpoint\u001b[0m \u001b[1;33m=\u001b[0m \u001b[0mX\u001b[0m\u001b[1;33m[\u001b[0m\u001b[0mi\u001b[0m\u001b[1;33m]\u001b[0m\u001b[1;33m\u001b[0m\u001b[1;33m\u001b[0m\u001b[0m\n\u001b[1;32m---> 46\u001b[1;33m         \u001b[0mclassifications\u001b[0m\u001b[1;33m.\u001b[0m\u001b[0mappend\u001b[0m\u001b[1;33m(\u001b[0m\u001b[0mpredict\u001b[0m\u001b[1;33m(\u001b[0m\u001b[0mpoint\u001b[0m\u001b[1;33m,\u001b[0m \u001b[0mX\u001b[0m\u001b[1;33m,\u001b[0m \u001b[0my\u001b[0m\u001b[1;33m,\u001b[0m \u001b[0mk\u001b[0m\u001b[1;33m,\u001b[0m \u001b[0mmetric\u001b[0m\u001b[1;33m)\u001b[0m\u001b[1;33m)\u001b[0m\u001b[1;33m\u001b[0m\u001b[1;33m\u001b[0m\u001b[0m\n\u001b[0m\u001b[0;32m     47\u001b[0m \u001b[1;33m\u001b[0m\u001b[0m\n\u001b[0;32m     48\u001b[0m     \u001b[1;32mreturn\u001b[0m \u001b[0mclassifications\u001b[0m\u001b[1;33m\u001b[0m\u001b[1;33m\u001b[0m\u001b[0m\n",
      "\u001b[1;32m~\\Discriminative-and-Generative-Classifier\\utils.py\u001b[0m in \u001b[0;36mpredict\u001b[1;34m(point, X, y, k, metric)\u001b[0m\n\u001b[0;32m     31\u001b[0m \u001b[1;32mdef\u001b[0m \u001b[0mpredict\u001b[0m\u001b[1;33m(\u001b[0m\u001b[0mpoint\u001b[0m\u001b[1;33m,\u001b[0m \u001b[0mX\u001b[0m\u001b[1;33m,\u001b[0m \u001b[0my\u001b[0m\u001b[1;33m,\u001b[0m \u001b[0mk\u001b[0m\u001b[1;33m,\u001b[0m \u001b[0mmetric\u001b[0m\u001b[1;33m)\u001b[0m\u001b[1;33m:\u001b[0m\u001b[1;33m\u001b[0m\u001b[1;33m\u001b[0m\u001b[0m\n\u001b[0;32m     32\u001b[0m     \u001b[0mclasses\u001b[0m \u001b[1;33m=\u001b[0m \u001b[1;33m[\u001b[0m\u001b[1;33m]\u001b[0m\u001b[1;33m\u001b[0m\u001b[1;33m\u001b[0m\u001b[0m\n\u001b[1;32m---> 33\u001b[1;33m     \u001b[0mneighbors\u001b[0m \u001b[1;33m=\u001b[0m \u001b[0mget_neighbors\u001b[0m\u001b[1;33m(\u001b[0m\u001b[0mpoint\u001b[0m\u001b[1;33m,\u001b[0m \u001b[0mX\u001b[0m\u001b[1;33m,\u001b[0m \u001b[0mk\u001b[0m\u001b[1;33m,\u001b[0m \u001b[0mmetric\u001b[0m\u001b[1;33m)\u001b[0m\u001b[1;33m\u001b[0m\u001b[1;33m\u001b[0m\u001b[0m\n\u001b[0m\u001b[0;32m     34\u001b[0m \u001b[1;33m\u001b[0m\u001b[0m\n\u001b[0;32m     35\u001b[0m     \u001b[1;32mfor\u001b[0m \u001b[0mneighbour\u001b[0m \u001b[1;32min\u001b[0m \u001b[0mneighbors\u001b[0m\u001b[1;33m:\u001b[0m\u001b[1;33m\u001b[0m\u001b[1;33m\u001b[0m\u001b[0m\n",
      "\u001b[1;32m~\\Discriminative-and-Generative-Classifier\\utils.py\u001b[0m in \u001b[0;36mget_neighbors\u001b[1;34m(point, X, k, metric)\u001b[0m\n\u001b[0;32m     24\u001b[0m \u001b[1;33m\u001b[0m\u001b[0m\n\u001b[0;32m     25\u001b[0m     \u001b[1;32mfor\u001b[0m \u001b[0mi\u001b[0m \u001b[1;32min\u001b[0m \u001b[0mrange\u001b[0m\u001b[1;33m(\u001b[0m\u001b[0mk\u001b[0m \u001b[1;33m+\u001b[0m \u001b[1;36m1\u001b[0m\u001b[1;33m)\u001b[0m\u001b[1;33m:\u001b[0m\u001b[1;33m\u001b[0m\u001b[1;33m\u001b[0m\u001b[0m\n\u001b[1;32m---> 26\u001b[1;33m         \u001b[0mneighbors\u001b[0m\u001b[1;33m.\u001b[0m\u001b[0mappend\u001b[0m\u001b[1;33m(\u001b[0m\u001b[1;33m(\u001b[0m\u001b[0mdistances\u001b[0m\u001b[1;33m[\u001b[0m\u001b[0mi\u001b[0m\u001b[1;33m]\u001b[0m\u001b[1;33m[\u001b[0m\u001b[1;36m0\u001b[0m\u001b[1;33m]\u001b[0m\u001b[1;33m,\u001b[0m \u001b[0mdistances\u001b[0m\u001b[1;33m[\u001b[0m\u001b[0mi\u001b[0m\u001b[1;33m]\u001b[0m\u001b[1;33m[\u001b[0m\u001b[1;36m2\u001b[0m\u001b[1;33m]\u001b[0m\u001b[1;33m)\u001b[0m\u001b[1;33m)\u001b[0m\u001b[1;33m\u001b[0m\u001b[1;33m\u001b[0m\u001b[0m\n\u001b[0m\u001b[0;32m     27\u001b[0m \u001b[1;33m\u001b[0m\u001b[0m\n\u001b[0;32m     28\u001b[0m     \u001b[1;32mreturn\u001b[0m \u001b[0mneighbors\u001b[0m\u001b[1;33m\u001b[0m\u001b[1;33m\u001b[0m\u001b[0m\n",
      "\u001b[1;31mIndexError\u001b[0m: list index out of range"
     ]
    }
   ],
   "source": [
    "euclidean_acc = []\n",
    "cosine_acc = []\n",
    "manhattan_acc = []\n",
    "\n",
    "for k in [1, 5, 100, 500, 1000, 5000, 10000, 30000, y_valid.shape[0]]:\n",
    "    for metric in ['euclidean', 'cosine', 'manhattan']:\n",
    "        scores = []\n",
    "        \n",
    "        y_pred_1 = KNN(fold1_X, fold1_y, k, metric)\n",
    "        scores.append(accuracy(fold1_y, y_pred_1))\n",
    "        y_pred_2 = KNN(fold2_X, fold2_y, k, metric)\n",
    "        scores.append(accuracy(fold2_y, y_pred_2))\n",
    "        y_pred_3 = KNN(fold3_X, fold3_y, k, metric)\n",
    "        scores.append(accuracy(fold3_y, y_pred_3))\n",
    "        y_pred_4 = KNN(fold4_X, fold4_y, k, metric)\n",
    "        scores.append(accuracy(fold4_y, y_pred_4))\n",
    "        y_pred_5 = KNN(fold5_X, fold5_y, k, metric)\n",
    "        scores.append(accuracy(fold5_y, y_pred_5))\n",
    "        y_pred_6 = KNN(fold6_X, fold6_y, k, metric)\n",
    "        scores.append(accuracy(fold6_y, y_pred_6))\n",
    "        y_pred_7 = KNN(fold7_X, fold7_y, k, metric)\n",
    "        scores.append(accuracy(fold7_y, y_pred_7))\n",
    "        y_pred_8 = KNN(fold8_X, fold8_y, k, metric)\n",
    "        scores.append(accuracy(fold8_y, y_pred_8))\n",
    "        y_pred_9 = KNN(fold9_X, fold9_y, k, metric)\n",
    "        scores.append(accuracy(fold9_y, y_pred_9))\n",
    "        y_pred_10 = KNN(fold10_X, fold10_y, k, metric)\n",
    "        scores.append(accuracy(fold10_y, y_pred_10))\n",
    "        \n",
    "        acc = mean(scores)\n",
    "        \n",
    "        print(f'k: {k} --- Metric : {metric} --- CV accuracy: {acc}')\n",
    "        \n",
    "        if metric == 'euclidean':\n",
    "            euclidean_acc.append(acc)\n",
    "        else:\n",
    "            if metric == 'cosine':\n",
    "                cosine_acc.append(acc)\n",
    "            else:\n",
    "                manhattan_acc.append(acc)"
   ]
  },
  {
   "cell_type": "code",
   "execution_count": null,
   "metadata": {},
   "outputs": [],
   "source": [
    "k = [1, 5, 100, 500, 1000, 5000, 10000, 30000, y_valid.shape[0]]\n",
    "\n",
    "matplot.subplots(figsize=(10, 5))\n",
    "matplot.semilogx(k, euclidean_acc,'-gD' ,color='red' , label=\"Accuracy - 'euclidean'\")\n",
    "matplot.semilogx(k, cosine_acc,'-gD' , label=\"Accuracy - 'cosine'\")\n",
    "matplot.semilogx(k, manhattan_acc,'-gD' , label=\"Accuracy - 'manhattan'\")\n",
    "#matplot.xticks(L,L)\n",
    "matplot.grid(True)\n",
    "matplot.xlabel(\"Neirest neighbors k\")\n",
    "matplot.ylabel(\"Accuracy\")\n",
    "matplot.legend()\n",
    "matplot.title('Accuracy versus the Cost Parameter C (log-scale)')\n",
    "matplot.show()"
   ]
  },
  {
   "cell_type": "code",
   "execution_count": null,
   "metadata": {},
   "outputs": [],
   "source": []
  }
 ],
 "metadata": {
  "kernelspec": {
   "display_name": "Python 3",
   "language": "python",
   "name": "python3"
  },
  "language_info": {
   "codemirror_mode": {
    "name": "ipython",
    "version": 3
   },
   "file_extension": ".py",
   "mimetype": "text/x-python",
   "name": "python",
   "nbconvert_exporter": "python",
   "pygments_lexer": "ipython3",
   "version": "3.8.5"
  }
 },
 "nbformat": 4,
 "nbformat_minor": 4
}
