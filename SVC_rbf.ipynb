{
 "cells": [
  {
   "cell_type": "code",
   "execution_count": 1,
   "metadata": {},
   "outputs": [],
   "source": [
    "import matplotlib.pyplot as matplot\n",
    "import seaborn as sb\n",
    "import pandas as pd\n",
    "import time\n",
    "from sklearn.svm import SVC\n",
    "from sklearn.datasets import fetch_openml\n",
    "from sklearn.metrics import accuracy_score, confusion_matrix\n",
    "from sklearn.model_selection import train_test_split, cross_val_score\n",
    "from utils import loadDataset"
   ]
  },
  {
   "cell_type": "code",
   "execution_count": 2,
   "metadata": {},
   "outputs": [
    {
     "name": "stdout",
     "output_type": "stream",
     "text": [
      "TRAIN\n",
      "(7000, 784) (7000,)\n",
      "VALIDATION\n",
      "(7000, 784) (7000,)\n",
      "TEST\n",
      "(56000, 784) (56000,)\n"
     ]
    }
   ],
   "source": [
    "X_train, y_train, X_valid, y_valid, X_test, y_test = loadDataset()\n",
    "\n",
    "print('TRAIN')\n",
    "print(X_train.shape, y_train.shape)\n",
    "print('VALIDATION')\n",
    "print(X_valid.shape, y_valid.shape)\n",
    "print('TEST')\n",
    "print(X_test.shape, y_test.shape)"
   ]
  },
  {
   "cell_type": "code",
   "execution_count": 3,
   "metadata": {},
   "outputs": [
    {
     "name": "stdout",
     "output_type": "stream",
     "text": [
      "C: 0.0001 --- Gamma : scale --- CV accuracy: 0.11128571428571428\n",
      "C: 0.0001 --- Gamma : auto --- CV accuracy: 0.11128571428571428\n",
      "C: 0.001 --- Gamma : scale --- CV accuracy: 0.11128571428571428\n",
      "C: 0.001 --- Gamma : auto --- CV accuracy: 0.11128571428571428\n",
      "C: 0.01 --- Gamma : scale --- CV accuracy: 0.6718571428571428\n",
      "C: 0.01 --- Gamma : auto --- CV accuracy: 0.11128571428571428\n",
      "C: 0.1 --- Gamma : scale --- CV accuracy: 0.9188571428571428\n",
      "C: 0.1 --- Gamma : auto --- CV accuracy: 0.8355714285714285\n",
      "C: 1 --- Gamma : scale --- CV accuracy: 0.9547142857142857\n",
      "C: 1 --- Gamma : auto --- CV accuracy: 0.9108571428571428\n",
      "C: 10 --- Gamma : scale --- CV accuracy: 0.9611428571428572\n",
      "C: 10 --- Gamma : auto --- CV accuracy: 0.9335714285714285\n",
      "C: 100 --- Gamma : scale --- CV accuracy: 0.9611428571428572\n",
      "C: 100 --- Gamma : auto --- CV accuracy: 0.936142857142857\n",
      "C: 1000 --- Gamma : scale --- CV accuracy: 0.9611428571428572\n",
      "C: 1000 --- Gamma : auto --- CV accuracy: 0.9334285714285715\n",
      "C: 10000 --- Gamma : scale --- CV accuracy: 0.9611428571428572\n",
      "C: 10000 --- Gamma : auto --- CV accuracy: 0.9334285714285715\n",
      "             c  gamma  CV_accuracy\n",
      "0       0.0001  scale     0.111286\n",
      "1       0.0001   auto     0.111286\n",
      "2       0.0010  scale     0.111286\n",
      "3       0.0010   auto     0.111286\n",
      "4       0.0100  scale     0.671857\n",
      "5       0.0100   auto     0.111286\n",
      "6       0.1000  scale     0.918857\n",
      "7       0.1000   auto     0.835571\n",
      "8       1.0000  scale     0.954714\n",
      "9       1.0000   auto     0.910857\n",
      "10     10.0000  scale     0.961143\n",
      "11     10.0000   auto     0.933571\n",
      "12    100.0000  scale     0.961143\n",
      "13    100.0000   auto     0.936143\n",
      "14   1000.0000  scale     0.961143\n",
      "15   1000.0000   auto     0.933429\n",
      "16  10000.0000  scale     0.961143\n",
      "17  10000.0000   auto     0.933429\n"
     ]
    }
   ],
   "source": [
    "df = pd.DataFrame(columns = ['c','gamma','CV_accuracy'])\n",
    "i = 0\n",
    "\n",
    "for c in [0.0001,0.001,0.01,0.1,1,10,100,1000,10000]:\n",
    "    for gam in ['scale', 'auto']:\n",
    "        svm = SVC(C=c, kernel='rbf', gamma=gam)\n",
    "        scores = cross_val_score(svm, X_valid, y_valid, cv = 10, n_jobs=50, verbose  = 0)\n",
    "        validation_accuracy = scores.mean()\n",
    "        \n",
    "        print(f'C: {c} --- Gamma : {gam} --- CV accuracy: {validation_accuracy}')\n",
    "        \n",
    "        df.loc[i] = [c, gam, validation_accuracy]\n",
    "        i += 1\n",
    "print(df)"
   ]
  },
  {
   "cell_type": "code",
   "execution_count": null,
   "metadata": {},
   "outputs": [],
   "source": [
    "rbf_svc = SVC(C = 100 kernel = 'rbf', gamma = 'scale')\n",
    "\n",
    "start_train = time.time()\n",
    "rbf_svc.fit(X_train, y_train)\n",
    "time_train = time.time() - start_train\n",
    "\n",
    "start_test = time.time()\n",
    "y_pred = rbf_svc.predict(X_test)\n",
    "time_test = time.time() - start_test\n",
    "\n",
    "score = accuracy_score(y_test, y_pred)\n",
    "print('Train time: ', time_train)\n",
    "print('Test time: ',time_test)\n",
    "print('Test accuracy = ', score)"
   ]
  },
  {
   "cell_type": "code",
   "execution_count": null,
   "metadata": {},
   "outputs": [],
   "source": [
    "cm = confusion_matrix(y_test, y_pred)\n",
    "matplot.subplots(figsize=(10, 6))\n",
    "sb.heatmap(cm, annot = True, fmt = 'g')\n",
    "matplot.xlabel(\"Predicted\")\n",
    "matplot.ylabel(\"Actual\")\n",
    "matplot.title(\"Confusion Matrix\")\n",
    "matplot.show()"
   ]
  }
 ],
 "metadata": {
  "kernelspec": {
   "display_name": "Python 3",
   "language": "python",
   "name": "python3"
  },
  "language_info": {
   "codemirror_mode": {
    "name": "ipython",
    "version": 3
   },
   "file_extension": ".py",
   "mimetype": "text/x-python",
   "name": "python",
   "nbconvert_exporter": "python",
   "pygments_lexer": "ipython3",
   "version": "3.8.5"
  },
  "vscode": {
   "interpreter": {
    "hash": "89856bdab09c39aefbf3209efc6bdf7de9c55ab8d3adb613190e6747f16e35fa"
   }
  }
 },
 "nbformat": 4,
 "nbformat_minor": 2
}
